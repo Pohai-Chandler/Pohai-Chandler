{
  "cells": [
    {
      "cell_type": "markdown",
      "metadata": {
        "id": "YKjVXkOq5RvM"
      },
      "source": [
        "# Some Basics: Regression and Prediction"
      ]
    },
    {
      "cell_type": "markdown",
      "metadata": {
        "id": "Vh5p-yeb5RvP"
      },
      "source": [
        "Load useful packages"
      ]
    },
    {
      "cell_type": "code",
      "execution_count": null,
      "metadata": {
        "id": "kcWz25QG5RvQ"
      },
      "outputs": [],
      "source": [
        "import pandas as pd\n",
        "import numpy as np\n",
        "from sklearn import linear_model"
      ]
    },
    {
      "cell_type": "markdown",
      "metadata": {
        "id": "j8t7BfHB5RvQ"
      },
      "source": [
        "Read in data"
      ]
    },
    {
      "cell_type": "code",
      "execution_count": 4,
      "metadata": {
        "id": "GZwsd77j5RvR",
        "outputId": "54bf6bfe-2b4f-4e09-c7b6-76456baa42b9",
        "colab": {
          "base_uri": "https://localhost:8080/"
        }
      },
      "outputs": [
        {
          "output_type": "stream",
          "name": "stdout",
          "text": [
            "   price  crime   nox  rooms  ...  lowstat     lprice      lnox  lproptax\n",
            "0  24000  0.006  5.38   6.57  ...     4.98  10.085810  1.682688  5.690360\n",
            "1  21599  0.027  4.69   6.42  ...     9.14   9.980402  1.545433  5.488938\n",
            "2  34700  0.027  4.69   7.18  ...     4.03  10.454500  1.545433  5.488938\n",
            "3  33400  0.032  4.58   7.00  ...     2.94  10.416310  1.521699  5.402678\n",
            "4  36199  0.069  4.58   7.15  ...     5.33  10.496790  1.521699  5.402678\n",
            "\n",
            "[5 rows x 12 columns]\n",
            "Shape: (506, 12)\n"
          ]
        }
      ],
      "source": [
        "housedata=pd.read_csv('/content/gdrive/My Drive/Econ 484/datasets/housingprices.csv',nrows=506)\n",
        "print(housedata.head())\n",
        "print(\"Shape: {}\".format(str(housedata.shape)))"
      ]
    },
    {
      "cell_type": "markdown",
      "metadata": {
        "id": "q_2dO1Sq5RvR"
      },
      "source": [
        "Define matrix of regressors"
      ]
    },
    {
      "cell_type": "code",
      "execution_count": null,
      "metadata": {
        "id": "AuBTrz2m5RvS"
      },
      "outputs": [],
      "source": [
        "x=housedata[['crime','nox','rooms','dist','radial','proptax']]\n",
        "print(x.head())"
      ]
    },
    {
      "cell_type": "markdown",
      "metadata": {
        "id": "Lpx2nWGV5RvS"
      },
      "source": [
        "Define outcome vector"
      ]
    },
    {
      "cell_type": "code",
      "execution_count": null,
      "metadata": {
        "id": "YL5aQepk5RvT"
      },
      "outputs": [],
      "source": [
        "y=housedata['price']"
      ]
    },
    {
      "cell_type": "markdown",
      "metadata": {
        "id": "gquQQ5vP5RvT"
      },
      "source": [
        "Fit  (estimate) the model and look at coefficients:"
      ]
    },
    {
      "cell_type": "code",
      "execution_count": null,
      "metadata": {
        "id": "_NenKtlb5RvT"
      },
      "outputs": [],
      "source": [
        "lm = linear_model.LinearRegression()\n",
        "model = lm.fit(x,y)\n",
        "lm.coef_"
      ]
    },
    {
      "cell_type": "markdown",
      "metadata": {
        "id": "uZygYr255RvU"
      },
      "source": [
        "Would you say this is causal or descriptive? Now let's do prediction. First in-sample (easy):"
      ]
    },
    {
      "cell_type": "code",
      "execution_count": null,
      "metadata": {
        "id": "48Mjq-qT5RvU"
      },
      "outputs": [],
      "source": [
        "yhat_insample = lm.predict(x)\n",
        "print(yhat_insample)"
      ]
    },
    {
      "cell_type": "markdown",
      "metadata": {
        "id": "FXQ9IA875RvU"
      },
      "source": [
        "Now out-of-sample for a hypothetical house not in our dataset:"
      ]
    },
    {
      "cell_type": "code",
      "execution_count": null,
      "metadata": {
        "id": "kZHRz_nq5RvU"
      },
      "outputs": [],
      "source": [
        "newX=np.array([[.01,4,8,5,2,25]])\n",
        "yhat_outsample=lm.predict(newX)\n",
        "print(yhat_outsample)"
      ]
    }
  ],
  "metadata": {
    "kernelspec": {
      "display_name": "Python 3",
      "language": "python",
      "name": "python3"
    },
    "language_info": {
      "codemirror_mode": {
        "name": "ipython",
        "version": 3
      },
      "file_extension": ".py",
      "mimetype": "text/x-python",
      "name": "python",
      "nbconvert_exporter": "python",
      "pygments_lexer": "ipython3",
      "version": "3.7.4"
    },
    "colab": {
      "provenance": []
    }
  },
  "nbformat": 4,
  "nbformat_minor": 0
}
